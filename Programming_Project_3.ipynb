{
  "nbformat": 4,
  "nbformat_minor": 0,
  "metadata": {
    "colab": {
      "provenance": [],
      "include_colab_link": true
    },
    "kernelspec": {
      "name": "python3",
      "display_name": "Python 3"
    },
    "language_info": {
      "name": "python"
    }
  },
  "cells": [
    {
      "cell_type": "markdown",
      "metadata": {
        "id": "view-in-github",
        "colab_type": "text"
      },
      "source": [
        "<a href=\"https://colab.research.google.com/github/ToniYenC11/EmergingTech/blob/main/Programming_Project_3.ipynb\" target=\"_parent\"><img src=\"https://colab.research.google.com/assets/colab-badge.svg\" alt=\"Open In Colab\"/></a>"
      ]
    },
    {
      "cell_type": "markdown",
      "source": [
        "# Programming Assignment 3"
      ],
      "metadata": {
        "id": "NiggWtUy6Nvs"
      }
    },
    {
      "cell_type": "code",
      "source": [
        "!pip install ucimlrepo\n",
        "from ucimlrepo import fetch_ucirepo\n"
      ],
      "metadata": {
        "id": "Hwz_fVPe-O2k",
        "colab": {
          "base_uri": "https://localhost:8080/"
        },
        "outputId": "bb6702f0-7a1b-4b27-fff7-92004c04ac89"
      },
      "execution_count": null,
      "outputs": [
        {
          "output_type": "stream",
          "name": "stdout",
          "text": [
            "Collecting ucimlrepo\n",
            "  Downloading ucimlrepo-0.0.7-py3-none-any.whl.metadata (5.5 kB)\n",
            "Requirement already satisfied: pandas>=1.0.0 in /usr/local/lib/python3.11/dist-packages (from ucimlrepo) (2.2.2)\n",
            "Requirement already satisfied: certifi>=2020.12.5 in /usr/local/lib/python3.11/dist-packages (from ucimlrepo) (2024.12.14)\n",
            "Requirement already satisfied: numpy>=1.23.2 in /usr/local/lib/python3.11/dist-packages (from pandas>=1.0.0->ucimlrepo) (1.26.4)\n",
            "Requirement already satisfied: python-dateutil>=2.8.2 in /usr/local/lib/python3.11/dist-packages (from pandas>=1.0.0->ucimlrepo) (2.8.2)\n",
            "Requirement already satisfied: pytz>=2020.1 in /usr/local/lib/python3.11/dist-packages (from pandas>=1.0.0->ucimlrepo) (2024.2)\n",
            "Requirement already satisfied: tzdata>=2022.7 in /usr/local/lib/python3.11/dist-packages (from pandas>=1.0.0->ucimlrepo) (2024.2)\n",
            "Requirement already satisfied: six>=1.5 in /usr/local/lib/python3.11/dist-packages (from python-dateutil>=2.8.2->pandas>=1.0.0->ucimlrepo) (1.17.0)\n",
            "Downloading ucimlrepo-0.0.7-py3-none-any.whl (8.0 kB)\n",
            "Installing collected packages: ucimlrepo\n",
            "Successfully installed ucimlrepo-0.0.7\n"
          ]
        }
      ]
    },
    {
      "cell_type": "code",
      "execution_count": null,
      "metadata": {
        "id": "AcEaoL8h6M1T"
      },
      "outputs": [],
      "source": [
        "import pandas as pd\n",
        "import numpy as np\n",
        "import seaborn as sns\n",
        "import matplotlib.pyplot as plt\n",
        "from sklearn.model_selection import train_test_split\n",
        "from sklearn.pipeline import Pipeline\n",
        "from sklearn.preprocessing import StandardScaler\n",
        "from sklearn.linear_model import LogisticRegression\n",
        "from sklearn.metrics import classification_report\n",
        "from sklearn.metrics import confusion_matrix, ConfusionMatrixDisplay\n",
        "from sklearn.metrics import roc_curve\n",
        "from sklearn.metrics import auc"
      ]
    },
    {
      "cell_type": "code",
      "source": [
        "\n",
        "# fetch dataset\n",
        "breast_cancer_wisconsin_diagnostic = fetch_ucirepo(id=17)\n",
        "\n",
        "# data (as pandas dataframes)\n",
        "x = breast_cancer_wisconsin_diagnostic.data.features\n",
        "y = breast_cancer_wisconsin_diagnostic.data.targets\n",
        "\n",
        "# metadata\n",
        "print(breast_cancer_wisconsin_diagnostic.metadata)\n",
        "\n",
        "# variable information\n",
        "print(breast_cancer_wisconsin_diagnostic.variables)"
      ],
      "metadata": {
        "id": "nNbrtP-v6ROh",
        "colab": {
          "base_uri": "https://localhost:8080/"
        },
        "outputId": "6f7e0c48-f5cb-4650-b83d-5d4001905b6d"
      },
      "execution_count": null,
      "outputs": [
        {
          "output_type": "stream",
          "name": "stdout",
          "text": [
            "{'uci_id': 17, 'name': 'Breast Cancer Wisconsin (Diagnostic)', 'repository_url': 'https://archive.ics.uci.edu/dataset/17/breast+cancer+wisconsin+diagnostic', 'data_url': 'https://archive.ics.uci.edu/static/public/17/data.csv', 'abstract': 'Diagnostic Wisconsin Breast Cancer Database.', 'area': 'Health and Medicine', 'tasks': ['Classification'], 'characteristics': ['Multivariate'], 'num_instances': 569, 'num_features': 30, 'feature_types': ['Real'], 'demographics': [], 'target_col': ['Diagnosis'], 'index_col': ['ID'], 'has_missing_values': 'no', 'missing_values_symbol': None, 'year_of_dataset_creation': 1993, 'last_updated': 'Fri Nov 03 2023', 'dataset_doi': '10.24432/C5DW2B', 'creators': ['William Wolberg', 'Olvi Mangasarian', 'Nick Street', 'W. Street'], 'intro_paper': {'ID': 230, 'type': 'NATIVE', 'title': 'Nuclear feature extraction for breast tumor diagnosis', 'authors': 'W. Street, W. Wolberg, O. Mangasarian', 'venue': 'Electronic imaging', 'year': 1993, 'journal': None, 'DOI': '10.1117/12.148698', 'URL': 'https://www.semanticscholar.org/paper/53f0fbb425bc14468eb3bf96b2e1d41ba8087f36', 'sha': None, 'corpus': None, 'arxiv': None, 'mag': None, 'acl': None, 'pmid': None, 'pmcid': None}, 'additional_info': {'summary': 'Features are computed from a digitized image of a fine needle aspirate (FNA) of a breast mass.  They describe characteristics of the cell nuclei present in the image. A few of the images can be found at http://www.cs.wisc.edu/~street/images/\\r\\n\\r\\nSeparating plane described above was obtained using Multisurface Method-Tree (MSM-T) [K. P. Bennett, \"Decision Tree Construction Via Linear Programming.\" Proceedings of the 4th Midwest Artificial Intelligence and Cognitive Science Society, pp. 97-101, 1992], a classification method which uses linear programming to construct a decision tree.  Relevant features were selected using an exhaustive search in the space of 1-4 features and 1-3 separating planes.\\r\\n\\r\\nThe actual linear program used to obtain the separating plane in the 3-dimensional space is that described in: [K. P. Bennett and O. L. Mangasarian: \"Robust Linear Programming Discrimination of Two Linearly Inseparable Sets\", Optimization Methods and Software 1, 1992, 23-34].\\r\\n\\r\\nThis database is also available through the UW CS ftp server:\\r\\nftp ftp.cs.wisc.edu\\r\\ncd math-prog/cpo-dataset/machine-learn/WDBC/', 'purpose': None, 'funded_by': None, 'instances_represent': None, 'recommended_data_splits': None, 'sensitive_data': None, 'preprocessing_description': None, 'variable_info': '1) ID number\\r\\n2) Diagnosis (M = malignant, B = benign)\\r\\n3-32)\\r\\n\\r\\nTen real-valued features are computed for each cell nucleus:\\r\\n\\r\\n\\ta) radius (mean of distances from center to points on the perimeter)\\r\\n\\tb) texture (standard deviation of gray-scale values)\\r\\n\\tc) perimeter\\r\\n\\td) area\\r\\n\\te) smoothness (local variation in radius lengths)\\r\\n\\tf) compactness (perimeter^2 / area - 1.0)\\r\\n\\tg) concavity (severity of concave portions of the contour)\\r\\n\\th) concave points (number of concave portions of the contour)\\r\\n\\ti) symmetry \\r\\n\\tj) fractal dimension (\"coastline approximation\" - 1)', 'citation': None}}\n",
            "                  name     role         type demographic description units  \\\n",
            "0                   ID       ID  Categorical        None        None  None   \n",
            "1            Diagnosis   Target  Categorical        None        None  None   \n",
            "2              radius1  Feature   Continuous        None        None  None   \n",
            "3             texture1  Feature   Continuous        None        None  None   \n",
            "4           perimeter1  Feature   Continuous        None        None  None   \n",
            "5                area1  Feature   Continuous        None        None  None   \n",
            "6          smoothness1  Feature   Continuous        None        None  None   \n",
            "7         compactness1  Feature   Continuous        None        None  None   \n",
            "8           concavity1  Feature   Continuous        None        None  None   \n",
            "9      concave_points1  Feature   Continuous        None        None  None   \n",
            "10           symmetry1  Feature   Continuous        None        None  None   \n",
            "11  fractal_dimension1  Feature   Continuous        None        None  None   \n",
            "12             radius2  Feature   Continuous        None        None  None   \n",
            "13            texture2  Feature   Continuous        None        None  None   \n",
            "14          perimeter2  Feature   Continuous        None        None  None   \n",
            "15               area2  Feature   Continuous        None        None  None   \n",
            "16         smoothness2  Feature   Continuous        None        None  None   \n",
            "17        compactness2  Feature   Continuous        None        None  None   \n",
            "18          concavity2  Feature   Continuous        None        None  None   \n",
            "19     concave_points2  Feature   Continuous        None        None  None   \n",
            "20           symmetry2  Feature   Continuous        None        None  None   \n",
            "21  fractal_dimension2  Feature   Continuous        None        None  None   \n",
            "22             radius3  Feature   Continuous        None        None  None   \n",
            "23            texture3  Feature   Continuous        None        None  None   \n",
            "24          perimeter3  Feature   Continuous        None        None  None   \n",
            "25               area3  Feature   Continuous        None        None  None   \n",
            "26         smoothness3  Feature   Continuous        None        None  None   \n",
            "27        compactness3  Feature   Continuous        None        None  None   \n",
            "28          concavity3  Feature   Continuous        None        None  None   \n",
            "29     concave_points3  Feature   Continuous        None        None  None   \n",
            "30           symmetry3  Feature   Continuous        None        None  None   \n",
            "31  fractal_dimension3  Feature   Continuous        None        None  None   \n",
            "\n",
            "   missing_values  \n",
            "0              no  \n",
            "1              no  \n",
            "2              no  \n",
            "3              no  \n",
            "4              no  \n",
            "5              no  \n",
            "6              no  \n",
            "7              no  \n",
            "8              no  \n",
            "9              no  \n",
            "10             no  \n",
            "11             no  \n",
            "12             no  \n",
            "13             no  \n",
            "14             no  \n",
            "15             no  \n",
            "16             no  \n",
            "17             no  \n",
            "18             no  \n",
            "19             no  \n",
            "20             no  \n",
            "21             no  \n",
            "22             no  \n",
            "23             no  \n",
            "24             no  \n",
            "25             no  \n",
            "26             no  \n",
            "27             no  \n",
            "28             no  \n",
            "29             no  \n",
            "30             no  \n",
            "31             no  \n"
          ]
        }
      ]
    },
    {
      "cell_type": "code",
      "source": [
        "display(X.head())\n",
        "display(y.head())"
      ],
      "metadata": {
        "colab": {
          "base_uri": "https://localhost:8080/",
          "height": 159
        },
        "id": "pDtGa5KK7w0x",
        "outputId": "fda46a0b-a7d5-42cf-c05b-4e2077007626"
      },
      "execution_count": null,
      "outputs": [
        {
          "output_type": "error",
          "ename": "NameError",
          "evalue": "name 'X' is not defined",
          "traceback": [
            "\u001b[0;31m---------------------------------------------------------------------------\u001b[0m",
            "\u001b[0;31mNameError\u001b[0m                                 Traceback (most recent call last)",
            "\u001b[0;32m<ipython-input-5-9993f0b8b6b0>\u001b[0m in \u001b[0;36m<cell line: 0>\u001b[0;34m()\u001b[0m\n\u001b[0;32m----> 1\u001b[0;31m \u001b[0mdisplay\u001b[0m\u001b[0;34m(\u001b[0m\u001b[0mX\u001b[0m\u001b[0;34m.\u001b[0m\u001b[0mhead\u001b[0m\u001b[0;34m(\u001b[0m\u001b[0;34m)\u001b[0m\u001b[0;34m)\u001b[0m\u001b[0;34m\u001b[0m\u001b[0;34m\u001b[0m\u001b[0m\n\u001b[0m\u001b[1;32m      2\u001b[0m \u001b[0mdisplay\u001b[0m\u001b[0;34m(\u001b[0m\u001b[0my\u001b[0m\u001b[0;34m.\u001b[0m\u001b[0mhead\u001b[0m\u001b[0;34m(\u001b[0m\u001b[0;34m)\u001b[0m\u001b[0;34m)\u001b[0m\u001b[0;34m\u001b[0m\u001b[0;34m\u001b[0m\u001b[0m\n",
            "\u001b[0;31mNameError\u001b[0m: name 'X' is not defined"
          ]
        }
      ]
    },
    {
      "cell_type": "code",
      "source": [
        "# Converting label M and B to 1 and 0\n",
        "y['Diagnosis'] = y['Diagnosis'].replace({'M': 1, 'B': 0}).astype(int)\n",
        "print(y.head())"
      ],
      "metadata": {
        "id": "VBa3uTL59Id4"
      },
      "execution_count": null,
      "outputs": []
    },
    {
      "cell_type": "code",
      "source": [
        "# Creating a correlation and check\n",
        "x = x[['radius1', 'texture1', 'smoothness1', 'compactness1', 'symmetry1', 'fractal_dimension1']]\n",
        "\n",
        "def plot_correlation_heatmap(data):\n",
        "    plt.figure(figsize=(6, 6))\n",
        "    sns.heatmap(data.corr().round(2), cmap='coolwarm', vmin=-1, vmax=1, center=0,\n",
        "                 square=True, linewidths=.5, cbar_kws={\"shrink\": .5}, annot=True, fmt=\".2f\", annot_kws={\"fontsize\": 7})\n",
        "    plt.title('Correlation Heatmap')\n",
        "    plt.tight_layout()\n",
        "    plt.show()\n",
        "\n",
        "# Call the function to plot the heatmap\n",
        "plot_correlation_heatmap(x)"
      ],
      "metadata": {
        "id": "Re1FXueI8vFW"
      },
      "execution_count": null,
      "outputs": []
    },
    {
      "cell_type": "code",
      "source": [
        "# Creatig Model Training and Testing\n",
        "x_train, x_test, y_train, y_test = train_test_split(x, y, stratify=y, test_size=0.3, random_state=7)"
      ],
      "metadata": {
        "id": "tkPcmeP_9O1I"
      },
      "execution_count": null,
      "outputs": []
    },
    {
      "cell_type": "code",
      "source": [
        "# Create a standard scaler and logistic regression pipeline\n",
        "model = Pipeline([\n",
        "    ('scaler', StandardScaler()),\n",
        "    ('model', LogisticRegression())\n",
        "])\n",
        "\n",
        "# Fit the pipeline to the training set\n",
        "model.fit(x_train, y_train)\n",
        "\n",
        "# Use the model to predict the values for the test set\n",
        "y_pred = model.predict(x_test)\n",
        "\n",
        "# Determine the training and testing accuracy\n",
        "train_accuracy = model.score(x_train, y_train)\n",
        "test_accuracy = model.score(x_test, y_test)\n",
        "\n",
        "print(f\"Training Accuracy: {round(train_accuracy, 2)}\")\n",
        "print(f\"Testing Accuracy: {round(test_accuracy, 2)}\")\n",
        "\n",
        "# Show the classification report for more detailed metrics\n",
        "print(\"\\nClassification Report:\")\n",
        "print(classification_report(y_test, y_pred))"
      ],
      "metadata": {
        "colab": {
          "base_uri": "https://localhost:8080/"
        },
        "id": "ogLNVP1w9YJ7",
        "outputId": "81d351f5-c395-4868-9506-6dcb4b79df71"
      },
      "execution_count": null,
      "outputs": [
        {
          "output_type": "stream",
          "name": "stdout",
          "text": [
            "Training Accuracy: 0.94\n",
            "Testing Accuracy: 0.92\n",
            "\n",
            "Classification Report:\n",
            "              precision    recall  f1-score   support\n",
            "\n",
            "           0       0.91      0.96      0.94       107\n",
            "           1       0.93      0.84      0.89        64\n",
            "\n",
            "    accuracy                           0.92       171\n",
            "   macro avg       0.92      0.90      0.91       171\n",
            "weighted avg       0.92      0.92      0.92       171\n",
            "\n"
          ]
        },
        {
          "output_type": "stream",
          "name": "stderr",
          "text": [
            "/usr/local/lib/python3.10/dist-packages/sklearn/utils/validation.py:1408: DataConversionWarning: A column-vector y was passed when a 1d array was expected. Please change the shape of y to (n_samples, ), for example using ravel().\n",
            "  y = column_or_1d(y, warn=True)\n"
          ]
        }
      ]
    },
    {
      "cell_type": "code",
      "source": [
        "# Calculate the confusion matrix\n",
        "cm = confusion_matrix(y_test, y_pred)\n",
        "tn, fp, fn, tp = cm.ravel()  # True Negatives, False Positives, False Negatives, True Positives\n",
        "\n",
        "# Calculate the false alarm rate (False Positive Rate)\n",
        "false_alarm_rate = fp / (fp + tn) if (fp + tn) > 0 else 0\n",
        "\n",
        "print(f\"False Alarm Rate: {round(false_alarm_rate, 2)}\")"
      ],
      "metadata": {
        "colab": {
          "base_uri": "https://localhost:8080/"
        },
        "id": "pS898Z9B9fH9",
        "outputId": "3c2a95e3-33c7-495f-b49e-586f20c07bb2"
      },
      "execution_count": null,
      "outputs": [
        {
          "output_type": "stream",
          "name": "stdout",
          "text": [
            "False Alarm Rate: 0.04\n"
          ]
        }
      ]
    },
    {
      "cell_type": "code",
      "source": [
        "# Show the coefficient values\n",
        "coef_df = pd.DataFrame(model.named_steps.model.coef_[0], index=x.keys(), columns=['Coefficient'])\n",
        "coef_df['Rounded'] = coef_df['Coefficient'].round(2)\n",
        "print(\"\\nCoefficient Values:\")\n",
        "print(coef_df)\n",
        "\n",
        "# Show the intercept\n",
        "print(f\"Intercept: {model.named_steps.model.intercept_[0]:.2f}\")"
      ],
      "metadata": {
        "colab": {
          "base_uri": "https://localhost:8080/"
        },
        "id": "qkIIDU-k9jeg",
        "outputId": "c09756f0-a4a5-4614-ed2b-05f5fc92fa9a"
      },
      "execution_count": null,
      "outputs": [
        {
          "output_type": "stream",
          "name": "stdout",
          "text": [
            "\n",
            "Coefficient Values:\n",
            "                    Coefficient  Rounded\n",
            "radius1                3.277395     3.28\n",
            "texture1               1.195844     1.20\n",
            "smoothness1            1.046129     1.05\n",
            "compactness1           0.992227     0.99\n",
            "symmetry1              0.498028     0.50\n",
            "fractal_dimension1    -0.489562    -0.49\n",
            "Intercept: -0.96\n"
          ]
        }
      ]
    },
    {
      "cell_type": "code",
      "source": [
        "# Display the confusion matrix\n",
        "ConfusionMatrixDisplay(confusion_matrix=cm, display_labels=[\"Benign\", \"Malignant\"]).plot()\n",
        "\n",
        "# Add title and show the plot\n",
        "plt.title('Confusion Matrix')\n",
        "plt.show()"
      ],
      "metadata": {
        "colab": {
          "base_uri": "https://localhost:8080/",
          "height": 472
        },
        "id": "OJQ57ai39ybN",
        "outputId": "f7c1fd13-8bc9-421e-98c1-7ea77361a253"
      },
      "execution_count": null,
      "outputs": [
        {
          "output_type": "display_data",
          "data": {
            "text/plain": [
              "<Figure size 640x480 with 2 Axes>"
            ],
            "image/png": "[encoded data removed]"
          },
          "metadata": {}
        }
      ]
    },
    {
      "cell_type": "code",
      "source": [
        "# Compute ROC curve and AUC for training set\n",
        "y_train_proba = model.predict_proba(x_train)[:, 1]  # Get probabilities for the positive class\n",
        "fpr_train, tpr_train, _ = roc_curve(y_train, y_train_proba)\n",
        "roc_auc_train = auc(fpr_train, tpr_train)\n",
        "\n",
        "# Compute ROC curve and AUC for testing set\n",
        "y_test_proba = model.predict_proba(x_test)[:, 1]  # Get probabilities for the positive class\n",
        "fpr_test, tpr_test, _ = roc_curve(y_test, y_test_proba)\n",
        "roc_auc_test = auc(fpr_test, tpr_test)\n",
        "\n",
        "# Plot ROC curves\n",
        "plt.figure(figsize=(5, 5))\n",
        "plt.plot(fpr_train, tpr_train, color='blue', label=f'Train ROC curve (AUC = {roc_auc_train:.2f})')\n",
        "plt.plot(fpr_test, tpr_test, color='red', label=f'Test ROC curve (AUC = {roc_auc_test:.2f})')\n",
        "plt.plot([0, 1], [0, 1], color='gray', linestyle='--')  # Diagonal line\n",
        "plt.xlim([0.0, 1.0])\n",
        "plt.ylim([0.0, 1.05])\n",
        "plt.xlabel('False Positive Rate')\n",
        "plt.ylabel('True Positive Rate')\n",
        "plt.title('Receiver Operating Characteristic (ROC) Curve')\n",
        "plt.legend(loc='lower right')\n",
        "plt.grid()\n",
        "plt.show()"
      ],
      "metadata": {
        "colab": {
          "base_uri": "https://localhost:8080/",
          "height": 487
        },
        "id": "mjeIA-mx9y_y",
        "outputId": "24340c7a-ad17-4b7d-e249-01a4869a0512"
      },
      "execution_count": null,
      "outputs": [
        {
          "output_type": "display_data",
          "data": {
            "text/plain": [
              "<Figure size 500x500 with 1 Axes>"
            ],
            "image/png": "[encoded data removed]"
          },
          "metadata": {}
        }
      ]
    },
    {
      "cell_type": "markdown",
      "source": [
        "## Guide Questions\n",
        "\n",
        "### 1. What steps are required to remove the \"Sample code number\" column?\n",
        "- In the dataset the sample code was not provided. If ever tere is, dropping column by using Pandas dataframe function \".drop()\"\n",
        "\n",
        "### 2. How can the \"Class\" values be converted into binary (0 and 1) form in Python?\n",
        "\n",
        "- As seen in the dataset, the values assigned to benign and malignant are 2 and 4, respectively. It can simply be  update the values in the Diagnosis column by dividing them by 2 and then subtracting 1, which can be expressed as Diagnosis = Diagnosis / 2 - 1. However there are other methods to convert the class in forms of binary\n",
        "\n",
        "### 3. What is the importance of splitting the dataset into training and testing sets?\n",
        "\n",
        "- Using the same datasets for both training and testing will result in overfitted results because the same data were used for both training the model for regression, and testing it for its accuracy score.\n",
        "\n",
        "### 4. Why is it necessary to use the stratify parameter in the train_test_split function?\n",
        "\n",
        "- `stratify` splits the data into a stratified fashion using the class labels. In the case of this dataset, the labels are based on the Diagnosis after several parameters.\n",
        "- Some classification (and eventually regression) problems can exhibit a large imbalance in the distribution of the target classes: for instance there could be several times more negative samples than positive samples. In such cases it is recommended to use stratified sampling.\n",
        "\n",
        "### 5.What is logistic regression, and why is it suitable for this dataset?\n",
        "- The labels are based on a classfication of either 0 or 1. For binary classification such as this, it is important to use a different function aside from a linear function because the relationship is not properly displayed due to the binary nature of the labels.\n",
        "- **Logistic Regression** estimates the probability of a binary label based on a given data set of independent variables. THis is suitable for the experiment because the labels are either 0 or 1 (based on diagnosis), and a set of parameters is provided for prediction.\n",
        "\n",
        "### 6. How can the training and testing accuracy of the logistic regression model be calculated?\n",
        "- The `sklearn` module provides a documentation on Logistic Regression. The training and testing accuracy is based on the accuracy score using `model.score()` done on both training and testing set. For further evaluation of accuracy, AUC Score and ROC Score curves are also evaluated for both training and testing set.\n",
        "- The goal is to observe the behavior of both sets, showing a supposed positive correlation between the two.\n",
        "\n",
        "### 7. Which features in the dataset are most influential in determining the tumor status, and how can their importance be assessed?\n",
        "\n",
        "- The coefficients of:\n",
        "  - radius1                3.277395     3.28\n",
        "  - texture1               1.195844     1.20\n",
        "  - smoothness1            1.046129     1.05\n",
        "  - compactness1           0.992227     0.99\n",
        "  - symmetry1              0.498028     0.50\n",
        "  - fractal_dimension1    -0.489562    -0.49\n",
        "\n",
        "### 8. How is a confusion matrix generated, and what does it represent?\n",
        "\n",
        "- The confusion matrix is done by plotting the True Positive, True Negative, False Positive, and False Negatives of the dataset. Since it is a tedious manual process, `scikit-learn` has a built-in function for confusion matrix named `confusion_matrix`. It has a `ravel()` method to display the TP, TN, FP, and FN of the trainign set.\n",
        "- The confusion matrix represents the correctly and incorrectly labeled dataset based on both the presence and absence of the binary labels. A patient can be diagnosed with the disease, but in actuality has no signs of said disease, making it a false positive.\n",
        "\n",
        "### 9. How are precision, recall, F1-score, and false alarm rate calculated from the confusion matrix?\n",
        "\n",
        "- **Precision:** It is the ratio of correctly predicted positive observations to the total predicted positive observations.\n",
        "- Formula:\n",
        "$$\n",
        "\\text{Precision} = \\frac{\\text{TP}}{\\text{TP} + \\text{FP}}\n",
        "$$\n",
        "- Where:\n",
        "\n",
        "    TP = True Positives;\n",
        "    FP = False Positive\n",
        "\n",
        "- **Recall:** It is the ratio of correctly predicted positive observations to all observations in actual class.\n",
        "- Formula:\n",
        "$$\n",
        "\\text{Recall} = \\frac{\\text{TP}}{\\text{TP} + \\text{FN}}\n",
        "$$\n",
        "- Where:\n",
        "\n",
        "    TP = True Positives;\n",
        "    FN = False Negatives\n",
        "    \n",
        "- **F1-score** It is the weighted average of precision and recall. The best value is 1 (perfect precision and recall), and the worst is 0.\n",
        "- F1-score provides a balance between precision and recall, useful when you have an uneven class distribution.\n",
        "- Formula:\n",
        "\n",
        "$$\n",
        "\\text{F1-score} = 2 \\times \\frac{\\text{Precision} \\times \\text{Recall}}{\\text{Precision} + \\text{Recall}}\n",
        "$$\n",
        "\n",
        "- **False Alarm Rate:**  Also known as the False Positive Rate, it is the ratio of incorrectly predicted negative observations (False Positives) to the total actual negative observations (True Negatives and False Positives).\n",
        "- Formula:\n",
        "$$\n",
        "\\text{False Alarm Rate} = \\frac{\\text{FP}}{\\text{FP} + \\text{TN}}\n",
        "$$\n",
        "- Where:\n",
        "\n",
        "    FP = False Positives;\n",
        "    TN = True Negatives\n",
        "\n",
        "### 10. Why are these metrics important for evaluating the performance of a classifier?\n",
        "\n",
        "- These metrics are critical because they provide a more detailed analysis of how well the model is performing, beyond just the accuracy score.\n",
        "- **Precision and Recall** give insight into how well the model handles false positives and false negatives, especially when dealing with imbalanced datasets.\n",
        "-  **F1-score** balances the trade-off between precision and recall, helping ensure that both are considered in cases where one is more important than the other.\n",
        "-  **False Alarm Rate** is important for understanding the model's ability to avoid false positives, especially in cases like medical diagnostics where false positives may lead to unnecessary treatments.\n",
        "\n",
        "### 11. What is an ROC curve, and how is it plotted for a logistic regression model?\n",
        "\n",
        "- **ROC Curve (Receiver Operating Characteristic Curve):** It is a graphical plot that illustrates the diagnostic ability of a binary classifier by plotting the True Positive Rate (Recall) against the False Positive Rate at various thresholds.\n",
        "- As the decision threshold of a classifier is varied, the ROC curve shows how the model’s performance changes in terms of false positives and true positives.\n",
        "- The ROC curve is typically plotted using:\n",
        "  - **x-axis:** False Positive Rate (FPR)\n",
        "    $$\n",
        "    \\text{FPR} = \\frac{\\text{FP}}{\\text{FP} + \\text{TN}}\n",
        "    $$\n",
        "  - **y-axis:** True Positive Rate (TPR), also known as Recall\n",
        "    $$\n",
        "    \\text{TPR} = \\frac{\\text{TP}}{\\text{TP} + \\text{FN}}\n",
        "    $$\n",
        "\n",
        "- For plotting it for a logistic regression model:\n",
        "model.\n",
        "  - `predict_proba()`: This method returns the predicted probabilities for each class. The ROC curve is usually drawn for the positive class (malignant in your case).\n",
        "  - `roc_curve()`: This function calculates the FPR and TPR for different threshold values.\n",
        "  - `auc()`: Area Under the Curve gives a single score to evaluate the model, where higher AUC values represent better classification performance.\n",
        "\n",
        "### 12. How is the AUC (Area Under the Curve) calculated, and what does it signify about the model's performance?\n",
        "\n",
        "- **AUC (Area Under the Curve)** represents the area under the ROC curve. The AUC score provides an aggregate measure of performance across all classification thresholds.\n",
        "- Interpretation:\n",
        "  - AUC = 1: Perfect classifier\n",
        "  - AUC = 0.5: No better than random guessing\n",
        "  - AUC < 0.5: The model is worse than random guessing (this would be unusual in practice)\n",
        "- AUC Significance: A higher AUC indicates a better model, as it implies that the classifier is more capable of distinguishing between the positive and negative classes. An AUC of 0.8 or higher is generally considered good in classification tasks.\n",
        "\n",
        "### 13. How do the training and testing ROC curves compare, and what insights can be derived from this comparison?\n",
        "\n",
        "- Comparison of Training and Testing ROC Curves:\n",
        "  - The training ROC curve shows the model's ability to discriminate between classes on the data it was trained on.\n",
        "  - The testing ROC curve shows how well the model generalizes to unseen data (i.e., the data that wasn't part of the training set).\n",
        "- If the testing ROC curve is very close to the training ROC curve, it indicates that the model is likely not overfitting and is generalizing well.\n",
        "- If the training ROC curve is much better than the testing curve, it might suggest overfitting (i.e., the model is memorizing the training data but not generalizing well to new data).\n",
        "- If the testing ROC curve is far from the training curve, it could suggest underfitting (i.e., the model has not learned the underlying patterns well enough).\n",
        "\n",
        "\n",
        "### 14. What challenges did you encounter during the preprocessing or model training phases, and how did you address them?\n",
        "\n",
        "- The challenge encounter in this part was to pick the right correlation for the training the program. As we observed that radius column have 4 radius_1 to radius_4 upon checking the correlation the radius_1 fitted the most of it\n",
        "\n",
        "### 15. If the model's performance is not satisfactory, what adjustments could be made to improve it?\n",
        "\n",
        "- Well it will be by re-validation the dataset performing by splitting the data to training, validation, and test set.  \n"
      ],
      "metadata": {
        "id": "OMlSD_8UHo5j"
      }
    }
  ]
}